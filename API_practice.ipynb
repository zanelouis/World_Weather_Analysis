{
 "cells": [
  {
   "cell_type": "code",
   "execution_count": 19,
   "metadata": {},
   "outputs": [],
   "source": [
    "import pandas as pd\n",
    "import numpy as np\n"
   ]
  },
  {
   "cell_type": "code",
   "execution_count": 20,
   "metadata": {},
   "outputs": [],
   "source": [
    "# Create a practice set of random latitude and longitude combinations.\n",
    "x = [25.12903645, 25.92017388, 26.62509167, -59.98969384, 37.30571269]\n",
    "y = [-67.59741259, 11.09532135, 74.84233102, -76.89176677, -61.13376282]\n",
    "coordinates = zip(x, y)"
   ]
  },
  {
   "cell_type": "code",
   "execution_count": 21,
   "metadata": {},
   "outputs": [
    {
     "name": "stdout",
     "output_type": "stream",
     "text": [
      "25.12903645 -67.59741259\n",
      "25.92017388 11.09532135\n",
      "26.62509167 74.84233102\n",
      "-59.98969384 -76.89176677\n",
      "37.30571269 -61.13376282\n"
     ]
    }
   ],
   "source": [
    "# Use the tuple() function to display the latitude and longitude combinations.\n",
    "for coordinate in coordinates:\n",
    "    print(coordinate[0], coordinate[1])"
   ]
  },
  {
   "cell_type": "code",
   "execution_count": 22,
   "metadata": {},
   "outputs": [],
   "source": [
    "# Use the citipy module to determine city based on latitude and longitude.\n",
    "from citipy import citipy"
   ]
  },
  {
   "cell_type": "code",
   "execution_count": 23,
   "metadata": {},
   "outputs": [],
   "source": [
    "# Use the tuple() function to display the latitude and longitude combinations.\n",
    "for coordinate in coordinates:\n",
    "    print(citipy.nearest_city(coordinate[0], coordinate[1]).city_name,\n",
    "          citipy.nearest_city(coordinate[0], coordinate[1]).country_code)"
   ]
  },
  {
   "cell_type": "code",
   "execution_count": 24,
   "metadata": {},
   "outputs": [
    {
     "data": {
      "text/plain": [
       "0"
      ]
     },
     "execution_count": 24,
     "metadata": {},
     "output_type": "execute_result"
    }
   ],
   "source": [
    "# Create a list for holding the cities.\n",
    "cities = []\n",
    "# Identify the nearest city for each latitude and longitude combination.\n",
    "for coordinate in coordinates:\n",
    "    city = citipy.nearest_city(coordinate[0], coordinate[1]).city_name\n",
    "\n",
    "    # If the city is unique, then we will add it to the cities list.\n",
    "    if city not in cities:\n",
    "        cities.append(city)\n",
    "# Print the city count to confirm sufficient count.\n",
    "len(cities)"
   ]
  },
  {
   "cell_type": "code",
   "execution_count": 25,
   "metadata": {},
   "outputs": [
    {
     "data": {
      "text/plain": [
       "array([8.42367747e-03, 1.92685266e-01, 6.68839702e-01, 5.94218796e-01,\n",
       "       1.08364930e-01, 6.55485518e-01, 7.86387825e-02, 8.30367632e-01,\n",
       "       9.26353529e-01, 8.82835602e-01, 9.89314001e-01, 8.91329070e-01,\n",
       "       5.12835166e-01, 1.71465926e-01, 8.06209159e-01, 1.13542287e-01,\n",
       "       3.20316632e-01, 1.82176532e-01, 1.02587475e-03, 9.41077348e-01,\n",
       "       4.31892906e-01, 5.83814807e-01, 4.77664988e-01, 8.52248529e-01,\n",
       "       6.58054261e-01, 1.17498043e-02, 2.66746832e-01, 8.60230353e-01,\n",
       "       3.70003608e-01, 9.56578750e-01, 6.56486542e-01, 8.51281487e-01,\n",
       "       1.56044691e-01, 5.01306253e-01, 2.58727838e-01, 6.48647139e-01,\n",
       "       7.36336779e-01, 9.01382593e-01, 4.93369059e-01, 1.33096886e-01,\n",
       "       9.50757822e-01, 9.80461633e-01, 9.38923774e-02, 1.27953956e-01,\n",
       "       7.22632767e-01, 4.37265771e-01, 3.27994524e-01, 3.41464663e-01,\n",
       "       7.58406662e-01, 6.87210448e-01, 4.13738199e-02, 4.51599945e-01,\n",
       "       9.84119678e-01, 3.77394447e-03, 9.66150617e-01, 1.01749452e-01,\n",
       "       9.41036130e-01, 3.51055072e-02, 6.03276195e-01, 1.44032976e-01,\n",
       "       8.02467031e-01, 9.06845886e-01, 1.82673389e-01, 2.49338707e-01,\n",
       "       7.59705125e-01, 9.45363235e-01, 1.26400658e-01, 1.02994275e-01,\n",
       "       5.59585254e-01, 2.21842622e-01, 7.69182253e-01, 2.46873085e-01,\n",
       "       3.45794352e-01, 3.10746211e-01, 3.21181503e-01, 3.47243614e-01,\n",
       "       5.40349476e-01, 1.46832347e-01, 5.05746504e-01, 8.48211712e-01,\n",
       "       9.37404642e-01, 9.91011644e-01, 6.80307967e-01, 1.40369020e-01,\n",
       "       2.20281481e-01, 6.70929423e-01, 3.56743196e-01, 8.62266608e-01,\n",
       "       8.19521495e-01, 1.39999748e-02, 3.39537950e-01, 7.00879832e-01,\n",
       "       2.87553877e-01, 3.77866049e-01, 6.83820986e-01, 5.31002107e-01,\n",
       "       5.46856455e-01, 7.94492140e-01, 1.30015860e-01, 9.57495288e-01,\n",
       "       7.03040041e-01, 4.33901561e-01, 4.83707235e-01, 9.86269181e-01,\n",
       "       9.18353631e-01, 3.47259305e-01, 9.49758967e-01, 5.79577548e-01,\n",
       "       6.43579170e-02, 6.29521369e-01, 8.43730291e-02, 8.30140604e-01,\n",
       "       7.78076535e-02, 5.71825437e-01, 1.21254674e-01, 7.92591974e-01,\n",
       "       4.95706462e-01, 4.41936895e-01, 9.38907351e-01, 7.39824853e-02,\n",
       "       2.77957918e-01, 2.48511517e-02, 8.94685327e-01, 9.09679504e-01,\n",
       "       7.39928783e-01, 7.45916029e-01, 9.22209723e-01, 1.37524870e-01,\n",
       "       7.84304203e-01, 7.77854643e-02, 3.18674545e-01, 1.12200295e-01,\n",
       "       5.76156586e-01, 4.51440612e-01, 5.15701876e-01, 1.25744136e-01,\n",
       "       1.79259718e-01, 1.21555607e-01, 4.04101610e-01, 2.58080492e-01,\n",
       "       6.27725804e-02, 6.08551297e-01, 5.66417177e-01, 4.37264292e-01,\n",
       "       9.77006912e-01, 5.65031835e-01, 6.09381923e-01, 8.84473256e-01,\n",
       "       6.25858630e-01, 6.87794375e-01, 4.34882250e-01, 1.47448719e-01,\n",
       "       5.57564055e-01, 6.79126459e-01, 7.99698843e-01, 8.84351523e-02,\n",
       "       5.55520817e-01, 2.08231059e-02, 1.37760423e-01, 2.21609110e-01,\n",
       "       7.40549791e-01, 2.38708554e-01, 8.14376807e-01, 6.04901126e-01,\n",
       "       5.30308380e-04, 9.99946728e-01, 3.49518641e-01, 1.93612827e-01,\n",
       "       5.71026167e-01, 2.12090821e-01, 4.63197635e-01, 4.44528811e-01,\n",
       "       3.59294683e-01, 9.11410820e-01, 7.18083761e-01, 9.96150651e-02,\n",
       "       2.30212260e-01, 1.01987850e-01, 3.31229500e-01, 1.93945928e-01,\n",
       "       9.69154189e-01, 3.21914243e-01, 8.32118522e-01, 7.05319863e-01,\n",
       "       5.39812668e-01, 3.48268911e-01, 2.99849519e-01, 8.77417660e-03,\n",
       "       7.24117665e-01, 7.15086507e-01, 9.05312696e-01, 2.57955206e-01,\n",
       "       2.09303119e-01, 8.03688938e-02, 3.62142738e-01, 3.64696455e-01,\n",
       "       1.82726771e-01, 9.65361458e-01, 5.02235372e-01, 2.55795160e-01,\n",
       "       6.70138702e-01, 8.61499363e-01, 3.71340937e-01, 8.69191149e-01,\n",
       "       7.61162688e-01, 3.85618084e-01, 7.86917866e-01, 1.92072424e-01,\n",
       "       7.37605374e-01, 2.49621489e-01, 7.46525993e-01, 8.58126037e-01,\n",
       "       3.23378874e-01, 7.04360954e-01, 8.58783422e-01, 3.51779717e-01,\n",
       "       3.09050512e-01, 6.80577799e-01, 7.80622388e-01, 8.39326367e-01,\n",
       "       9.69946292e-01, 7.22825241e-01, 4.11789582e-02, 2.35811465e-01,\n",
       "       4.82390407e-02, 4.91637543e-03, 4.72567594e-01, 3.99699866e-01,\n",
       "       5.72075162e-02, 5.18378170e-01, 1.57499025e-01, 6.83658790e-01,\n",
       "       4.88969481e-02, 2.72816901e-01, 2.94839305e-01, 3.72480958e-01,\n",
       "       3.56589332e-01, 5.23569925e-01, 5.01584050e-01, 6.13803265e-01,\n",
       "       1.98389606e-01, 6.54620724e-01, 3.53251653e-02, 8.16494452e-02,\n",
       "       2.88647430e-01, 6.09564133e-01, 8.86519572e-01, 3.60473352e-01,\n",
       "       6.78222057e-01, 7.92030048e-01, 9.54791965e-01, 8.20960455e-01,\n",
       "       7.85303689e-01, 8.51347042e-01, 7.17190511e-01, 4.46781550e-01,\n",
       "       6.10068870e-01, 1.66438988e-01, 1.72351392e-01, 4.35849022e-01,\n",
       "       8.56268649e-01, 6.05582653e-01, 1.88974745e-01, 8.99161792e-02,\n",
       "       1.60836826e-01, 9.92813806e-01, 3.04241096e-01, 6.65003307e-01,\n",
       "       5.24620063e-01, 6.40181491e-02, 8.67031663e-01, 7.77073697e-01,\n",
       "       4.58201430e-01, 6.31998403e-01, 3.96008512e-01, 8.82713892e-01,\n",
       "       8.95405141e-01, 9.08359157e-01, 1.74941602e-02, 4.20567359e-01,\n",
       "       3.08338813e-01, 5.88702477e-01, 7.04805491e-01, 5.39089677e-01,\n",
       "       9.67688445e-01, 9.72471688e-01, 9.98520227e-01, 2.57869272e-01,\n",
       "       3.37611062e-01, 2.16052022e-01, 9.72806682e-01, 6.86992408e-01,\n",
       "       9.59620790e-01, 2.58574899e-01, 9.82250699e-01, 8.75751604e-01,\n",
       "       5.72446066e-01, 4.34306338e-01, 2.83928858e-02, 2.29769517e-02,\n",
       "       9.29798644e-02, 6.49600104e-01, 7.96772741e-01, 3.38398793e-01,\n",
       "       3.64027712e-01, 5.05112303e-01, 8.88582289e-01, 8.53335931e-01,\n",
       "       1.83694733e-01, 5.75239672e-01, 6.42563495e-01, 6.18690547e-01,\n",
       "       6.26003408e-01, 8.67355273e-01, 7.61109220e-01, 1.54104116e-01,\n",
       "       5.91503860e-01, 1.43780013e-01, 4.92510815e-01, 4.30157745e-01,\n",
       "       2.35133455e-01, 2.66583688e-02, 3.94555074e-01, 5.53321521e-02,\n",
       "       8.95498660e-01, 4.81991427e-01, 6.99647328e-01, 4.32465701e-01,\n",
       "       6.40994096e-02, 1.44349215e-01, 2.14720735e-01, 7.57421224e-01,\n",
       "       3.86127358e-01, 4.62119451e-01, 9.38002822e-01, 3.09612557e-01,\n",
       "       9.19971213e-01, 2.88366420e-01, 3.16615818e-01, 9.08793981e-01,\n",
       "       1.31264860e-01, 1.00217076e-01, 3.11249069e-01, 3.77339098e-01,\n",
       "       1.33085795e-01, 5.80493396e-01, 8.21373239e-01, 6.94887233e-01,\n",
       "       1.47723205e-01, 5.18741867e-01, 1.27082224e-01, 7.50081593e-01,\n",
       "       9.25730152e-02, 9.23570263e-02, 5.53208004e-01, 7.45027851e-01,\n",
       "       4.66889985e-01, 3.57631612e-01, 6.47147427e-01, 2.87441349e-01,\n",
       "       3.81235809e-01, 5.37170033e-01, 2.68935356e-01, 2.48708620e-01,\n",
       "       4.02353807e-01, 9.57898230e-01, 5.51410837e-01, 9.51907591e-02,\n",
       "       6.40644830e-01, 6.46821930e-01, 3.07361176e-01, 2.10629376e-01,\n",
       "       3.78239183e-01, 3.62625608e-01, 9.29359449e-01, 2.54687076e-01,\n",
       "       7.93457733e-01, 2.81526567e-01, 9.07172343e-01, 7.18842312e-01,\n",
       "       1.95925542e-01, 4.58351915e-01, 7.56069329e-01, 4.77327824e-01,\n",
       "       8.54103423e-01, 4.76122927e-01, 9.37022825e-01, 7.99743565e-01,\n",
       "       4.53137058e-01, 3.63874394e-01, 3.70184014e-01, 4.78008788e-01,\n",
       "       1.38655582e-01, 4.77007284e-01, 3.14303293e-01, 3.01678220e-01,\n",
       "       2.60378307e-01, 1.71153708e-01, 1.45239183e-01, 4.80911892e-01,\n",
       "       6.39824249e-01, 6.25603739e-01, 9.67594372e-01, 5.94915289e-01,\n",
       "       3.55672162e-01, 2.30615821e-01, 5.95612674e-01, 2.29078137e-02,\n",
       "       2.64912950e-02, 1.98027135e-01, 3.42400353e-02, 5.12144182e-01,\n",
       "       9.51547142e-01, 1.31348835e-01, 7.14543777e-01, 9.44985211e-01,\n",
       "       8.48169869e-01, 2.79237479e-01, 2.83783688e-01, 1.07956929e-01,\n",
       "       7.61649252e-01, 8.15032070e-01, 5.63085566e-01, 2.42743895e-01,\n",
       "       5.86597531e-01, 5.65548652e-01, 4.88602050e-01, 9.98303174e-01,\n",
       "       3.95240778e-02, 7.88103496e-02, 9.25526721e-01, 2.11100781e-01,\n",
       "       3.24098173e-01, 6.00840717e-01, 1.95546977e-01, 2.42100222e-01,\n",
       "       5.21355902e-01, 5.46064661e-01, 7.04557973e-01, 3.24098757e-01,\n",
       "       5.85736646e-01, 2.42719168e-01, 9.09717274e-01, 6.60550212e-01,\n",
       "       7.79997881e-01, 4.62034552e-01, 1.37295510e-01, 1.19561178e-01,\n",
       "       8.11487459e-01, 5.92493120e-01, 8.16115605e-01, 3.73806978e-01,\n",
       "       3.31346897e-01, 9.08907767e-01, 5.79066527e-01, 5.78142649e-01,\n",
       "       2.50037300e-01, 9.74022779e-01, 8.81811847e-01, 1.81365047e-01,\n",
       "       8.31631363e-01, 9.19960115e-01, 9.42468155e-01, 2.18757163e-01,\n",
       "       5.16116949e-01, 9.13103125e-01, 3.52470930e-01, 1.93742773e-01,\n",
       "       4.23198465e-01, 2.54402809e-02, 1.62763818e-01, 2.69049315e-01,\n",
       "       5.65431844e-01, 1.95701996e-01, 9.53731982e-01, 9.30367389e-01,\n",
       "       6.25174374e-01, 3.67137003e-01, 9.15725276e-02, 5.26395713e-01,\n",
       "       9.15183356e-01, 8.46183969e-01, 4.27499058e-01, 5.08238566e-01,\n",
       "       4.32459974e-01, 6.80212796e-01, 4.37250580e-01, 4.21931396e-01,\n",
       "       4.67808889e-01, 3.79674303e-01, 2.07223135e-01, 3.35737105e-01,\n",
       "       5.34253648e-01, 5.93979392e-01, 6.61252931e-02, 5.77018061e-01,\n",
       "       6.47200432e-01, 9.71900713e-01, 7.31040734e-01, 6.69288836e-01])"
      ]
     },
     "execution_count": 25,
     "metadata": {},
     "output_type": "execute_result"
    }
   ],
   "source": [
    "np.random.uniform(size=500)"
   ]
  },
  {
   "cell_type": "code",
   "execution_count": 26,
   "metadata": {},
   "outputs": [
    {
     "data": {
      "text/plain": [
       "'2.24.0'"
      ]
     },
     "execution_count": 26,
     "metadata": {},
     "output_type": "execute_result"
    }
   ],
   "source": [
    "import requests\n",
    "requests.__version__"
   ]
  },
  {
   "cell_type": "code",
   "execution_count": 82,
   "metadata": {},
   "outputs": [],
   "source": [
    "# Import the requests library.\n",
    "import requests as req\n",
    "\n",
    "# Import the API key.\n",
    "from config import weather_api_key"
   ]
  },
  {
   "cell_type": "code",
   "execution_count": 83,
   "metadata": {},
   "outputs": [
    {
     "name": "stdout",
     "output_type": "stream",
     "text": [
      "http://api.openweathermap.org/data/2.5/weather?units=Imperial&APPID=d8c1a12d1e27d98f30465fbead7eddfc\n"
     ]
    }
   ],
   "source": [
    "# Starting URL for Weather Map API Call.\n",
    "url = \"http://api.openweathermap.org/data/2.5/weather?units=Imperial&APPID=\" + weather_api_key\n",
    "print(url)"
   ]
  },
  {
   "cell_type": "code",
   "execution_count": 84,
   "metadata": {},
   "outputs": [
    {
     "name": "stdout",
     "output_type": "stream",
     "text": [
      "http://api.openweathermap.org/data/2.5/weather?units=Imperial&APPID=d8c1a12d1e27d98f30465fbead7eddfc&q=Boston\n"
     ]
    }
   ],
   "source": [
    "# Create an endpoint URL for a city.\n",
    "city_url = url + \"&q=\" + \"Boston\"\n",
    "print(city_url)"
   ]
  },
  {
   "cell_type": "code",
   "execution_count": 85,
   "metadata": {},
   "outputs": [
    {
     "data": {
      "text/plain": [
       "<Response [200]>"
      ]
     },
     "execution_count": 85,
     "metadata": {},
     "output_type": "execute_result"
    }
   ],
   "source": [
    "# Make a 'Get' request for the city weather.\n",
    "city_weather = requests.get(city_url)\n",
    "city_weather"
   ]
  },
  {
   "cell_type": "code",
   "execution_count": 86,
   "metadata": {},
   "outputs": [
    {
     "data": {
      "text/plain": [
       "<Response [404]>"
      ]
     },
     "execution_count": 86,
     "metadata": {},
     "output_type": "execute_result"
    }
   ],
   "source": [
    "# Create an endpoint URL for a city.\n",
    "city_url = url + \"&q=\" + \"Bston\"\n",
    "city_weather = requests.get(city_url)\n",
    "city_weather"
   ]
  },
  {
   "cell_type": "code",
   "execution_count": 87,
   "metadata": {},
   "outputs": [
    {
     "data": {
      "text/plain": [
       "<Response [200]>"
      ]
     },
     "execution_count": 87,
     "metadata": {},
     "output_type": "execute_result"
    }
   ],
   "source": [
    "# Create an endpoint URL for a city.\n",
    "city_url = url + \"&q=\" + \"Boston\"\n",
    "city_weather = requests.get(city_url)\n",
    "city_weather"
   ]
  },
  {
   "cell_type": "code",
   "execution_count": 88,
   "metadata": {},
   "outputs": [
    {
     "data": {
      "text/plain": [
       "'{\"coord\":{\"lon\":-71.06,\"lat\":42.36},\"weather\":[{\"id\":804,\"main\":\"Clouds\",\"description\":\"overcast clouds\",\"icon\":\"04d\"}],\"base\":\"stations\",\"main\":{\"temp\":53.98,\"feels_like\":44.19,\"temp_min\":52,\"temp_max\":55.99,\"pressure\":1014,\"humidity\":62},\"visibility\":10000,\"wind\":{\"speed\":13.87,\"deg\":340,\"gust\":31.09},\"clouds\":{\"all\":100},\"dt\":1605208652,\"sys\":{\"type\":1,\"id\":4967,\"country\":\"US\",\"sunrise\":1605180720,\"sunset\":1605216305},\"timezone\":-18000,\"id\":4930956,\"name\":\"Boston\",\"cod\":200}'"
      ]
     },
     "execution_count": 88,
     "metadata": {},
     "output_type": "execute_result"
    }
   ],
   "source": [
    "# Get the text of the 'Get' request.\n",
    "city_weather.text"
   ]
  },
  {
   "cell_type": "code",
   "execution_count": 89,
   "metadata": {},
   "outputs": [
    {
     "data": {
      "text/plain": [
       "{'coord': {'lon': -71.06, 'lat': 42.36},\n",
       " 'weather': [{'id': 804,\n",
       "   'main': 'Clouds',\n",
       "   'description': 'overcast clouds',\n",
       "   'icon': '04d'}],\n",
       " 'base': 'stations',\n",
       " 'main': {'temp': 53.98,\n",
       "  'feels_like': 44.19,\n",
       "  'temp_min': 52,\n",
       "  'temp_max': 55.99,\n",
       "  'pressure': 1014,\n",
       "  'humidity': 62},\n",
       " 'visibility': 10000,\n",
       " 'wind': {'speed': 13.87, 'deg': 340, 'gust': 31.09},\n",
       " 'clouds': {'all': 100},\n",
       " 'dt': 1605208652,\n",
       " 'sys': {'type': 1,\n",
       "  'id': 4967,\n",
       "  'country': 'US',\n",
       "  'sunrise': 1605180720,\n",
       "  'sunset': 1605216305},\n",
       " 'timezone': -18000,\n",
       " 'id': 4930956,\n",
       " 'name': 'Boston',\n",
       " 'cod': 200}"
      ]
     },
     "execution_count": 89,
     "metadata": {},
     "output_type": "execute_result"
    }
   ],
   "source": [
    "# Get the JSON text of the 'Get' request.\n",
    "city_weather.json()"
   ]
  },
  {
   "cell_type": "code",
   "execution_count": 90,
   "metadata": {},
   "outputs": [
    {
     "name": "stdout",
     "output_type": "stream",
     "text": [
      "City Weather found.\n"
     ]
    }
   ],
   "source": [
    "# Create an endpoint URL for a city.\n",
    "city_url = url + \"&q=\" + \"Boston\"\n",
    "city_weather = requests.get(city_url)\n",
    "if city_weather.status_code == 200:\n",
    "    print(f\"City Weather found.\")\n",
    "else:\n",
    "    print(f\"City weather not found.\")"
   ]
  },
  {
   "cell_type": "code",
   "execution_count": 91,
   "metadata": {},
   "outputs": [
    {
     "name": "stdout",
     "output_type": "stream",
     "text": [
      "City Weather found.\n"
     ]
    }
   ],
   "source": [
    "# Create an endpoint URL for a city.\n",
    "city_url = url + \"&q=\" + \"Bston\"\n",
    "city_weather = requests.get(city_url)\n",
    "if city_weather.json():\n",
    "    print(f\"City Weather found.\")\n",
    "else:\n",
    "    print(f\"City weather not found.\")"
   ]
  },
  {
   "cell_type": "code",
   "execution_count": 92,
   "metadata": {},
   "outputs": [
    {
     "name": "stdout",
     "output_type": "stream",
     "text": [
      "http://api.openweathermap.org/data/2.5/weather?units=Imperial&APPID=d8c1a12d1e27d98f30465fbead7eddfc&q=Bston\n"
     ]
    }
   ],
   "source": [
    "print(city_url)"
   ]
  },
  {
   "cell_type": "code",
   "execution_count": 93,
   "metadata": {},
   "outputs": [
    {
     "data": {
      "text/plain": [
       "{'coord': {'lon': -71.06, 'lat': 42.36},\n",
       " 'weather': [{'id': 804,\n",
       "   'main': 'Clouds',\n",
       "   'description': 'overcast clouds',\n",
       "   'icon': '04d'}],\n",
       " 'base': 'stations',\n",
       " 'main': {'temp': 53.98,\n",
       "  'feels_like': 44.19,\n",
       "  'temp_min': 52,\n",
       "  'temp_max': 55.99,\n",
       "  'pressure': 1014,\n",
       "  'humidity': 62},\n",
       " 'visibility': 10000,\n",
       " 'wind': {'speed': 13.87, 'deg': 340, 'gust': 31.09},\n",
       " 'clouds': {'all': 100},\n",
       " 'dt': 1605208652,\n",
       " 'sys': {'type': 1,\n",
       "  'id': 4967,\n",
       "  'country': 'US',\n",
       "  'sunrise': 1605180720,\n",
       "  'sunset': 1605216305},\n",
       " 'timezone': -18000,\n",
       " 'id': 4930956,\n",
       " 'name': 'Boston',\n",
       " 'cod': 200}"
      ]
     },
     "execution_count": 93,
     "metadata": {},
     "output_type": "execute_result"
    }
   ],
   "source": [
    "# Create an endpoint URL for a city.\n",
    "city_url = url + \"&q=\" + \"Boston\"\n",
    "city_weather = requests.get(city_url)\n",
    "city_weather.json()"
   ]
  },
  {
   "cell_type": "code",
   "execution_count": 94,
   "metadata": {},
   "outputs": [],
   "source": [
    "# Get the JSON data.\n",
    "boston_data = city_weather.json()"
   ]
  },
  {
   "cell_type": "code",
   "execution_count": 95,
   "metadata": {},
   "outputs": [
    {
     "data": {
      "text/plain": [
       "{'type': 1,\n",
       " 'id': 3486,\n",
       " 'country': 'US',\n",
       " 'sunrise': 1605094244,\n",
       " 'sunset': 1605129964}"
      ]
     },
     "execution_count": 95,
     "metadata": {},
     "output_type": "execute_result"
    }
   ],
   "source": [
    "boston_data[\"sys\"]\n",
    "{'type': 1,\n",
    "  'id': 3486,\n",
    "  'country': 'US',\n",
    "  'sunrise': 1605094244,\n",
    "  'sunset': 1605129964}"
   ]
  },
  {
   "cell_type": "code",
   "execution_count": 96,
   "metadata": {},
   "outputs": [
    {
     "data": {
      "text/plain": [
       "'US'"
      ]
     },
     "execution_count": 96,
     "metadata": {},
     "output_type": "execute_result"
    }
   ],
   "source": [
    "boston_data[\"sys\"][\"country\"]"
   ]
  },
  {
   "cell_type": "code",
   "execution_count": 97,
   "metadata": {},
   "outputs": [
    {
     "data": {
      "text/plain": [
       "1605208652"
      ]
     },
     "execution_count": 97,
     "metadata": {},
     "output_type": "execute_result"
    }
   ],
   "source": [
    "boston_data[\"dt\"]"
   ]
  },
  {
   "cell_type": "code",
   "execution_count": 98,
   "metadata": {},
   "outputs": [
    {
     "data": {
      "text/plain": [
       "42.36"
      ]
     },
     "execution_count": 98,
     "metadata": {},
     "output_type": "execute_result"
    }
   ],
   "source": [
    "boston_data[\"coord\"][\"lat\"]"
   ]
  },
  {
   "cell_type": "code",
   "execution_count": 99,
   "metadata": {},
   "outputs": [
    {
     "data": {
      "text/plain": [
       "55.99"
      ]
     },
     "execution_count": 99,
     "metadata": {},
     "output_type": "execute_result"
    }
   ],
   "source": [
    "boston_data[\"main\"][\"temp_max\"]"
   ]
  },
  {
   "cell_type": "code",
   "execution_count": 100,
   "metadata": {},
   "outputs": [
    {
     "name": "stdout",
     "output_type": "stream",
     "text": [
      "42.36 -71.06 55.99 62 100 13.87\n"
     ]
    }
   ],
   "source": [
    "lat = boston_data[\"coord\"][\"lat\"]\n",
    "lng = boston_data[\"coord\"][\"lon\"]\n",
    "max_temp = boston_data[\"main\"][\"temp_max\"]\n",
    "humidity = boston_data[\"main\"][\"humidity\"]\n",
    "clouds = boston_data[\"clouds\"][\"all\"]\n",
    "wind = boston_data[\"wind\"][\"speed\"]\n",
    "print(lat, lng, max_temp, humidity, clouds, wind)"
   ]
  },
  {
   "cell_type": "code",
   "execution_count": 101,
   "metadata": {},
   "outputs": [
    {
     "data": {
      "text/plain": [
       "1605208652"
      ]
     },
     "execution_count": 101,
     "metadata": {},
     "output_type": "execute_result"
    }
   ],
   "source": [
    "boston_data[\"dt\"]"
   ]
  },
  {
   "cell_type": "code",
   "execution_count": 102,
   "metadata": {},
   "outputs": [
    {
     "data": {
      "text/plain": [
       "datetime.datetime(2020, 11, 12, 19, 17, 32)"
      ]
     },
     "execution_count": 102,
     "metadata": {},
     "output_type": "execute_result"
    }
   ],
   "source": [
    "# Import the datetime module from the datetime library.\n",
    "from datetime import datetime\n",
    "# Get the date from the JSON file.\n",
    "date = boston_data[\"dt\"]\n",
    "# Convert the UTC date to a date format with year, month, day, hours, minutes, and seconds.\n",
    "datetime.utcfromtimestamp(date)"
   ]
  },
  {
   "cell_type": "code",
   "execution_count": 103,
   "metadata": {},
   "outputs": [
    {
     "data": {
      "text/plain": [
       "'2020-11-12 19:17:32'"
      ]
     },
     "execution_count": 103,
     "metadata": {},
     "output_type": "execute_result"
    }
   ],
   "source": [
    "datetime.utcfromtimestamp(date).strftime('%Y-%m-%d %H:%M:%S')"
   ]
  },
  {
   "cell_type": "code",
   "execution_count": 109,
   "metadata": {},
   "outputs": [
    {
     "data": {
      "text/plain": [
       "0"
      ]
     },
     "execution_count": 109,
     "metadata": {},
     "output_type": "execute_result"
    }
   ],
   "source": [
    "# Create a list for holding the cities.\n",
    "cities = []\n",
    "# Identify the nearest city for each latitude and longitude combination.\n",
    "for coordinate in coordinates:\n",
    "    city = citipy.nearest_city(lat, lng).city_name\n",
    "\n",
    "    # If the city is unique, then we will add it to the cities list.\n",
    "    if city not in cities:\n",
    "        cities.append(city)\n",
    "# Print the city count to confirm sufficient count.\n",
    "len(cities)"
   ]
  },
  {
   "cell_type": "code",
   "execution_count": 107,
   "metadata": {},
   "outputs": [
    {
     "name": "stdout",
     "output_type": "stream",
     "text": [
      "Beginning Data Retrieval     \n",
      "-----------------------------\n",
      "-----------------------------\n",
      "Data Retrieval Complete      \n",
      "-----------------------------\n"
     ]
    }
   ],
   "source": [
    "# Create a list for holding the cities.\n",
    "cities = []\n",
    "# Identify the nearest city for each latitude and longitude combination.\n",
    "for coordinate in coordinates:\n",
    "    city = citipy.nearest_city(coordinate[0], coordinate[1]).city_name\n",
    "\n",
    "    # If the city is unique, then we will add it to the cities list.\n",
    "    if city not in cities:\n",
    "        cities.append(city)\n",
    "# Print the city count to confirm sufficient count.\n",
    "len(cities)\n",
    "\n",
    "# Create an empty list to hold the weather data.\n",
    "city_data = []\n",
    "# Print the beginning of the logging.\n",
    "print(\"Beginning Data Retrieval     \")\n",
    "print(\"-----------------------------\")\n",
    "\n",
    "# Create counters.\n",
    "record_count = 1\n",
    "set_count = 1\n",
    "# Loop through all the cities in the list.\n",
    "for i, city in enumerate(cities):\n",
    "\n",
    "    # Group cities in sets of 50 for logging purposes.\n",
    "    if (i % 50 == 0 and i >= 50):\n",
    "        set_count += 1\n",
    "        record_count = 1\n",
    "    # Create endpoint URL with each city.\n",
    "    city_url = url + \"&q=\" + city.replace(\" \",\"+\")\n",
    "\n",
    "    # Log the URL, record, and set numbers and the city.\n",
    "    print(f\"Processing Record {record_count} of Set {set_count} | {city}\")\n",
    "    # Add 1 to the record count.\n",
    "    record_count += 1\n",
    "\n",
    "# Loop through all the cities in our list.\n",
    "for i in range(len(cities)):\n",
    "\n",
    "    # Group cities in sets of 50 for logging purposes.\n",
    "    if (i % 50 == 0 and i >= 50):\n",
    "        set_count += 1\n",
    "        record_count = 1\n",
    "    # Create endpoint URL with each city.\n",
    "    city_url = url + \"&q=\" + cities[i]\n",
    "    # Run an API request for each of the cities.\n",
    "    try:\n",
    "        # Parse the JSON and retrieve data.\n",
    "        city_weather = requests.get(city_url).json()\n",
    "        # Parse out the needed data.\n",
    "        city_lat = city_weather[\"coord\"][\"lat\"]\n",
    "        city_lng = city_weather[\"coord\"][\"lon\"]\n",
    "        city_max_temp = city_weather[\"main\"][\"temp_max\"]\n",
    "        city_humidity = city_weather[\"main\"][\"humidity\"]\n",
    "        city_clouds = city_weather[\"clouds\"][\"all\"]\n",
    "        city_wind = city_weather[\"wind\"][\"speed\"]\n",
    "        city_country = city_weather[\"sys\"][\"country\"]\n",
    "        # Convert the date to ISO standard.\n",
    "        city_date = datetime.utcfromtimestamp(city_weather[\"dt\"]).strftime('%Y-%m-%d %H:%M:%S')\n",
    "        # Append the city information into city_data list.\n",
    "        city_data.append({\"City\": city.title(),\n",
    "                          \"Lat\": city_lat,\n",
    "                          \"Lng\": city_lng,\n",
    "                          \"Max Temp\": city_max_temp,\n",
    "                          \"Humidity\": city_humidity,\n",
    "                          \"Cloudiness\": city_clouds,\n",
    "                          \"Wind Speed\": city_wind,\n",
    "                          \"Country\": city_country,\n",
    "                          \"Date\": city_date})\n",
    "\n",
    "# If an error is experienced, skip the city.\n",
    "    except:\n",
    "        print(\"City not found. Skipping...\")\n",
    "        pass\n",
    "\n",
    "# Indicate that Data Loading is complete.\n",
    "print(\"-----------------------------\")\n",
    "print(\"Data Retrieval Complete      \")\n",
    "print(\"-----------------------------\")"
   ]
  },
  {
   "cell_type": "code",
   "execution_count": 78,
   "metadata": {},
   "outputs": [
    {
     "data": {
      "text/html": [
       "<div>\n",
       "<style scoped>\n",
       "    .dataframe tbody tr th:only-of-type {\n",
       "        vertical-align: middle;\n",
       "    }\n",
       "\n",
       "    .dataframe tbody tr th {\n",
       "        vertical-align: top;\n",
       "    }\n",
       "\n",
       "    .dataframe thead th {\n",
       "        text-align: right;\n",
       "    }\n",
       "</style>\n",
       "<table border=\"1\" class=\"dataframe\">\n",
       "  <thead>\n",
       "    <tr style=\"text-align: right;\">\n",
       "      <th></th>\n",
       "    </tr>\n",
       "  </thead>\n",
       "  <tbody>\n",
       "  </tbody>\n",
       "</table>\n",
       "</div>"
      ],
      "text/plain": [
       "Empty DataFrame\n",
       "Columns: []\n",
       "Index: []"
      ]
     },
     "execution_count": 78,
     "metadata": {},
     "output_type": "execute_result"
    }
   ],
   "source": [
    "# Convert the array of dictionaries to a Pandas DataFrame.\n",
    "city_data_df = pd.DataFrame(city_data)\n",
    "city_data_df.head(10)"
   ]
  },
  {
   "cell_type": "code",
   "execution_count": null,
   "metadata": {},
   "outputs": [],
   "source": []
  }
 ],
 "metadata": {
  "kernelspec": {
   "display_name": "PythonData",
   "language": "python",
   "name": "pythondata"
  },
  "language_info": {
   "codemirror_mode": {
    "name": "ipython",
    "version": 3
   },
   "file_extension": ".py",
   "mimetype": "text/x-python",
   "name": "python",
   "nbconvert_exporter": "python",
   "pygments_lexer": "ipython3",
   "version": "3.7.7"
  }
 },
 "nbformat": 4,
 "nbformat_minor": 4
}
