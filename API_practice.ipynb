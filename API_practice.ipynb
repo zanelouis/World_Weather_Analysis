{
 "cells": [
  {
   "cell_type": "code",
   "execution_count": 15,
   "metadata": {},
   "outputs": [],
   "source": [
    "import pandas as pd\n",
    "import numpy as np\n"
   ]
  },
  {
   "cell_type": "code",
   "execution_count": 16,
   "metadata": {},
   "outputs": [],
   "source": [
    "# Create a practice set of random latitude and longitude combinations.\n",
    "x = [25.12903645, 25.92017388, 26.62509167, -59.98969384, 37.30571269]\n",
    "y = [-67.59741259, 11.09532135, 74.84233102, -76.89176677, -61.13376282]\n",
    "coordinates = zip(x, y)"
   ]
  },
  {
   "cell_type": "code",
   "execution_count": 17,
   "metadata": {},
   "outputs": [
    {
     "name": "stdout",
     "output_type": "stream",
     "text": [
      "25.12903645 -67.59741259\n",
      "25.92017388 11.09532135\n",
      "26.62509167 74.84233102\n",
      "-59.98969384 -76.89176677\n",
      "37.30571269 -61.13376282\n"
     ]
    }
   ],
   "source": [
    "# Use the tuple() function to display the latitude and longitude combinations.\n",
    "for coordinate in coordinates:\n",
    "    print(coordinate[0], coordinate[1])"
   ]
  },
  {
   "cell_type": "code",
   "execution_count": 18,
   "metadata": {},
   "outputs": [],
   "source": [
    "# Use the citipy module to determine city based on latitude and longitude.\n",
    "from citipy import citipy"
   ]
  },
  {
   "cell_type": "code",
   "execution_count": 19,
   "metadata": {},
   "outputs": [],
   "source": [
    "# Use the tuple() function to display the latitude and longitude combinations.\n",
    "for coordinate in coordinates:\n",
    "    print(citipy.nearest_city(coordinate[0], coordinate[1]).city_name,\n",
    "          citipy.nearest_city(coordinate[0], coordinate[1]).country_code)"
   ]
  },
  {
   "cell_type": "code",
   "execution_count": 20,
   "metadata": {},
   "outputs": [
    {
     "data": {
      "text/plain": [
       "0"
      ]
     },
     "execution_count": 20,
     "metadata": {},
     "output_type": "execute_result"
    }
   ],
   "source": [
    "# Create a list for holding the cities.\n",
    "cities = []\n",
    "# Identify the nearest city for each latitude and longitude combination.\n",
    "for coordinate in coordinates:\n",
    "    city = citipy.nearest_city(coordinate[0], coordinate[1]).city_name\n",
    "\n",
    "    # If the city is unique, then we will add it to the cities list.\n",
    "    if city not in cities:\n",
    "        cities.append(city)\n",
    "# Print the city count to confirm sufficient count.\n",
    "len(cities)"
   ]
  },
  {
   "cell_type": "code",
   "execution_count": 21,
   "metadata": {
    "scrolled": true
   },
   "outputs": [
    {
     "data": {
      "text/plain": [
       "array([0.76831804, 0.57924315, 0.47518055, 0.8945712 , 0.57172546,\n",
       "       0.26145899, 0.57895749, 0.80351061, 0.09757936, 0.5261743 ,\n",
       "       0.32252252, 0.01396952, 0.76199599, 0.90965406, 0.64784458,\n",
       "       0.50364337, 0.06409386, 0.90350649, 0.09242239, 0.99344128,\n",
       "       0.24517915, 0.71901262, 0.82314329, 0.56017951, 0.99862837,\n",
       "       0.0382422 , 0.55148728, 0.36426673, 0.42615001, 0.42394341,\n",
       "       0.3450651 , 0.84229356, 0.17398314, 0.7397654 , 0.80327926,\n",
       "       0.46367428, 0.94763833, 0.44702232, 0.00578611, 0.45533442,\n",
       "       0.11583834, 0.16633197, 0.82210326, 0.83721933, 0.31637175,\n",
       "       0.03620416, 0.2883458 , 0.14556697, 0.40276818, 0.62400029,\n",
       "       0.17542253, 0.59982281, 0.38838951, 0.26186143, 0.62724182,\n",
       "       0.28896608, 0.1174834 , 0.3601716 , 0.81218306, 0.86617119,\n",
       "       0.4733241 , 0.68389731, 0.67996772, 0.27566513, 0.58652128,\n",
       "       0.06218752, 0.82134376, 0.72528517, 0.32943862, 0.99285815,\n",
       "       0.31935709, 0.08584896, 0.66139009, 0.03718261, 0.69663895,\n",
       "       0.50945099, 0.71765634, 0.32004209, 0.76550718, 0.49281437,\n",
       "       0.71868066, 0.84619818, 0.78125644, 0.79923148, 0.93118966,\n",
       "       0.61644676, 0.79800036, 0.19068662, 0.70178442, 0.78438489,\n",
       "       0.41282426, 0.30286585, 0.04205656, 0.86982985, 0.25072256,\n",
       "       0.84212787, 0.38029809, 0.98426853, 0.57561847, 0.63799485,\n",
       "       0.84709659, 0.39050695, 0.38195794, 0.73371974, 0.93932111,\n",
       "       0.07289376, 0.75304043, 0.23666865, 0.09407405, 0.13770709,\n",
       "       0.29277394, 0.41213279, 0.53873215, 0.68389791, 0.97807842,\n",
       "       0.83745695, 0.77371791, 0.95651452, 0.67367127, 0.94920763,\n",
       "       0.01268247, 0.63174214, 0.39360831, 0.92627992, 0.54418761,\n",
       "       0.4516286 , 0.72584626, 0.04241441, 0.22721475, 0.07688006,\n",
       "       0.90130389, 0.01453285, 0.16654409, 0.03811749, 0.02686561,\n",
       "       0.96997034, 0.23606297, 0.94501422, 0.71753345, 0.88167393,\n",
       "       0.12183527, 0.32885188, 0.27624874, 0.17853526, 0.1890996 ,\n",
       "       0.71733305, 0.26613161, 0.64990172, 0.0516893 , 0.76557181,\n",
       "       0.54168562, 0.4651249 , 0.35671257, 0.01633493, 0.62890744,\n",
       "       0.91885795, 0.28599271, 0.49826828, 0.7711423 , 0.84752176,\n",
       "       0.9212036 , 0.10025303, 0.43514589, 0.32237988, 0.99539763,\n",
       "       0.31224073, 0.11940915, 0.10140262, 0.46760938, 0.73680856,\n",
       "       0.96658036, 0.87512384, 0.7288163 , 0.32750754, 0.59387611,\n",
       "       0.1763118 , 0.062546  , 0.57343121, 0.8014361 , 0.45456066,\n",
       "       0.33819267, 0.08801864, 0.32658025, 0.22592246, 0.7364974 ,\n",
       "       0.58575719, 0.63774795, 0.21783967, 0.72508291, 0.63405899,\n",
       "       0.91181893, 0.71522456, 0.88757833, 0.70291704, 0.14471462,\n",
       "       0.10333556, 0.91074919, 0.98249547, 0.62131423, 0.99932455,\n",
       "       0.5556795 , 0.7524267 , 0.59821936, 0.03184398, 0.89164513,\n",
       "       0.85144805, 0.1847742 , 0.64454555, 0.80375986, 0.79659954,\n",
       "       0.46746736, 0.70928615, 0.70816188, 0.02984056, 0.97614508,\n",
       "       0.38870192, 0.29153315, 0.71110634, 0.61324276, 0.08690122,\n",
       "       0.61826327, 0.15370725, 0.80391984, 0.39901347, 0.25908233,\n",
       "       0.80658406, 0.39437739, 0.77629253, 0.2024312 , 0.90574863,\n",
       "       0.82857794, 0.05861324, 0.6464162 , 0.68751184, 0.52857383,\n",
       "       0.96379166, 0.32703823, 0.97800585, 0.39977762, 0.58275766,\n",
       "       0.44455949, 0.57181003, 0.30212007, 0.72590418, 0.92874721,\n",
       "       0.7303231 , 0.49290673, 0.52577912, 0.95019192, 0.59440706,\n",
       "       0.07124084, 0.66905862, 0.48940213, 0.09647875, 0.33449039,\n",
       "       0.88833269, 0.18225605, 0.69959429, 0.44372235, 0.33643436,\n",
       "       0.39966096, 0.70122577, 0.35237241, 0.28459819, 0.39189164,\n",
       "       0.60878339, 0.46036866, 0.55770061, 0.69190471, 0.29227767,\n",
       "       0.19627846, 0.22048278, 0.02740077, 0.09576968, 0.35623307,\n",
       "       0.89212408, 0.08434367, 0.85578733, 0.18463322, 0.60114861,\n",
       "       0.42667332, 0.61599925, 0.23973745, 0.85370441, 0.81981864,\n",
       "       0.02757195, 0.29748865, 0.04508416, 0.77338452, 0.8423548 ,\n",
       "       0.93393938, 0.38782943, 0.38157451, 0.15578359, 0.04517948,\n",
       "       0.26663711, 0.68902401, 0.52388263, 0.10237233, 0.40475629,\n",
       "       0.68084935, 0.27287286, 0.06743178, 0.6989277 , 0.19650464,\n",
       "       0.82803165, 0.65386971, 0.22719451, 0.00833331, 0.05387382,\n",
       "       0.40794862, 0.19275358, 0.04239775, 0.86206799, 0.01336361,\n",
       "       0.79758201, 0.52518708, 0.67255145, 0.91517736, 0.85680464,\n",
       "       0.55960543, 0.38504938, 0.98717925, 0.9002791 , 0.19038596,\n",
       "       0.72053863, 0.91914599, 0.35795085, 0.69263461, 0.62872829,\n",
       "       0.9398315 , 0.46179332, 0.70491145, 0.15088813, 0.28361758,\n",
       "       0.63842285, 0.67736321, 0.30551787, 0.09484158, 0.02710466,\n",
       "       0.56209483, 0.69640784, 0.92412911, 0.46083732, 0.00847636,\n",
       "       0.28846351, 0.2485479 , 0.00301502, 0.27096906, 0.95172908,\n",
       "       0.04180816, 0.30279653, 0.948404  , 0.95166488, 0.22680244,\n",
       "       0.44490912, 0.74015159, 0.08202018, 0.35475823, 0.69501011,\n",
       "       0.89961486, 0.29116781, 0.70263421, 0.74830224, 0.94955725,\n",
       "       0.29131221, 0.30874252, 0.3518133 , 0.03145153, 0.98589504,\n",
       "       0.92641633, 0.62910859, 0.26710185, 0.78307174, 0.66215086,\n",
       "       0.4357476 , 0.89948982, 0.93715101, 0.20515977, 0.88427387,\n",
       "       0.20595214, 0.51762905, 0.29146228, 0.34918296, 0.97365265,\n",
       "       0.7607407 , 0.68828235, 0.42204709, 0.61888912, 0.49180147,\n",
       "       0.79518045, 0.6464967 , 0.86671536, 0.31781586, 0.82549324,\n",
       "       0.47807066, 0.90597144, 0.59021355, 0.00882177, 0.97251139,\n",
       "       0.75007562, 0.02368429, 0.80280014, 0.472962  , 0.78702511,\n",
       "       0.78863587, 0.44498157, 0.61892674, 0.17885796, 0.89614164,\n",
       "       0.93324903, 0.55371061, 0.59754601, 0.79475388, 0.08198952,\n",
       "       0.87982678, 0.57546766, 0.7484639 , 0.68919259, 0.72069567,\n",
       "       0.4191451 , 0.1894025 , 0.12724527, 0.67067158, 0.88389728,\n",
       "       0.38306692, 0.81284499, 0.54411488, 0.06087162, 0.41462273,\n",
       "       0.6059375 , 0.04440786, 0.52337124, 0.84159057, 0.9315727 ,\n",
       "       0.40587124, 0.46712484, 0.70305974, 0.07390845, 0.41166923,\n",
       "       0.54674853, 0.61701677, 0.29786228, 0.65847704, 0.89785791,\n",
       "       0.66606158, 0.61754453, 0.41066283, 0.84499903, 0.09303508,\n",
       "       0.76064228, 0.40309616, 0.05065364, 0.41309293, 0.69189508,\n",
       "       0.50583177, 0.08114622, 0.87670075, 0.96696858, 0.2321483 ,\n",
       "       0.71238269, 0.69256116, 0.51918953, 0.92253649, 0.34021634,\n",
       "       0.33600397, 0.81132914, 0.88414398, 0.79496632, 0.7930907 ,\n",
       "       0.22706432, 0.7798412 , 0.7827792 , 0.89955355, 0.39239704,\n",
       "       0.80356633, 0.90120431, 0.83975859, 0.72573084, 0.05010013,\n",
       "       0.9724211 , 0.30464747, 0.46790602, 0.35244233, 0.72517957,\n",
       "       0.41326682, 0.54192781, 0.71507135, 0.29229713, 0.61324586,\n",
       "       0.91104118, 0.09284707, 0.71236347, 0.56465922, 0.25907514,\n",
       "       0.44205227, 0.82191856, 0.73321588, 0.38267295, 0.76804783])"
      ]
     },
     "execution_count": 21,
     "metadata": {},
     "output_type": "execute_result"
    }
   ],
   "source": [
    "np.random.uniform(size=500)"
   ]
  },
  {
   "cell_type": "code",
   "execution_count": 9,
   "metadata": {},
   "outputs": [
    {
     "data": {
      "text/plain": [
       "'2.24.0'"
      ]
     },
     "execution_count": 9,
     "metadata": {},
     "output_type": "execute_result"
    }
   ],
   "source": [
    "import requests as req\n",
    "req.__version__"
   ]
  },
  {
   "cell_type": "code",
   "execution_count": 22,
   "metadata": {},
   "outputs": [],
   "source": [
    "# Import the requests library.\n",
    "import requests\n",
    "\n",
    "# Import the API key.\n",
    "from config import weather_api_key"
   ]
  },
  {
   "cell_type": "code",
   "execution_count": 23,
   "metadata": {},
   "outputs": [
    {
     "name": "stdout",
     "output_type": "stream",
     "text": [
      "http://api.openweathermap.org/data/2.5/weather?units=Imperial&APPID=d8c1a12d1e27d98f30465fbead7eddfc\n"
     ]
    }
   ],
   "source": [
    "# Starting URL for Weather Map API Call.\n",
    "url = \"http://api.openweathermap.org/data/2.5/weather?units=Imperial&APPID=\" + weather_api_key\n",
    "print(url)"
   ]
  },
  {
   "cell_type": "code",
   "execution_count": 24,
   "metadata": {},
   "outputs": [
    {
     "name": "stdout",
     "output_type": "stream",
     "text": [
      "http://api.openweathermap.org/data/2.5/weather?units=Imperial&APPID=d8c1a12d1e27d98f30465fbead7eddfc&q=Boston\n"
     ]
    }
   ],
   "source": [
    "# Create an endpoint URL for a city.\n",
    "city_url = url + \"&q=\" + \"Boston\"\n",
    "print(city_url)"
   ]
  },
  {
   "cell_type": "code",
   "execution_count": 25,
   "metadata": {},
   "outputs": [
    {
     "data": {
      "text/plain": [
       "<Response [200]>"
      ]
     },
     "execution_count": 25,
     "metadata": {},
     "output_type": "execute_result"
    }
   ],
   "source": [
    "# Make a 'Get' request for the city weather.\n",
    "city_weather = requests.get(city_url)\n",
    "city_weather"
   ]
  },
  {
   "cell_type": "code",
   "execution_count": 26,
   "metadata": {},
   "outputs": [
    {
     "data": {
      "text/plain": [
       "<Response [404]>"
      ]
     },
     "execution_count": 26,
     "metadata": {},
     "output_type": "execute_result"
    }
   ],
   "source": [
    "# Create an endpoint URL for a city.\n",
    "city_url = url + \"&q=\" + \"Bston\"\n",
    "city_weather = requests.get(city_url)\n",
    "city_weather"
   ]
  },
  {
   "cell_type": "code",
   "execution_count": 27,
   "metadata": {},
   "outputs": [
    {
     "data": {
      "text/plain": [
       "<Response [200]>"
      ]
     },
     "execution_count": 27,
     "metadata": {},
     "output_type": "execute_result"
    }
   ],
   "source": [
    "# Create an endpoint URL for a city.\n",
    "city_url = url + \"&q=\" + \"Boston\"\n",
    "city_weather = requests.get(city_url)\n",
    "city_weather"
   ]
  },
  {
   "cell_type": "code",
   "execution_count": 28,
   "metadata": {},
   "outputs": [
    {
     "data": {
      "text/plain": [
       "'{\"coord\":{\"lon\":-71.06,\"lat\":42.36},\"weather\":[{\"id\":804,\"main\":\"Clouds\",\"description\":\"overcast clouds\",\"icon\":\"04n\"}],\"base\":\"stations\",\"main\":{\"temp\":46.96,\"feels_like\":39.47,\"temp_min\":45,\"temp_max\":48.99,\"pressure\":1020,\"humidity\":75},\"visibility\":10000,\"wind\":{\"speed\":9.17,\"deg\":10},\"clouds\":{\"all\":90},\"dt\":1605246830,\"sys\":{\"type\":1,\"id\":3486,\"country\":\"US\",\"sunrise\":1605267195,\"sunset\":1605302648},\"timezone\":-18000,\"id\":4930956,\"name\":\"Boston\",\"cod\":200}'"
      ]
     },
     "execution_count": 28,
     "metadata": {},
     "output_type": "execute_result"
    }
   ],
   "source": [
    "# Get the text of the 'Get' request.\n",
    "city_weather.text"
   ]
  },
  {
   "cell_type": "code",
   "execution_count": 29,
   "metadata": {},
   "outputs": [
    {
     "data": {
      "text/plain": [
       "{'coord': {'lon': -71.06, 'lat': 42.36},\n",
       " 'weather': [{'id': 804,\n",
       "   'main': 'Clouds',\n",
       "   'description': 'overcast clouds',\n",
       "   'icon': '04n'}],\n",
       " 'base': 'stations',\n",
       " 'main': {'temp': 46.96,\n",
       "  'feels_like': 39.47,\n",
       "  'temp_min': 45,\n",
       "  'temp_max': 48.99,\n",
       "  'pressure': 1020,\n",
       "  'humidity': 75},\n",
       " 'visibility': 10000,\n",
       " 'wind': {'speed': 9.17, 'deg': 10},\n",
       " 'clouds': {'all': 90},\n",
       " 'dt': 1605246830,\n",
       " 'sys': {'type': 1,\n",
       "  'id': 3486,\n",
       "  'country': 'US',\n",
       "  'sunrise': 1605267195,\n",
       "  'sunset': 1605302648},\n",
       " 'timezone': -18000,\n",
       " 'id': 4930956,\n",
       " 'name': 'Boston',\n",
       " 'cod': 200}"
      ]
     },
     "execution_count": 29,
     "metadata": {},
     "output_type": "execute_result"
    }
   ],
   "source": [
    "# Get the JSON text of the 'Get' request.\n",
    "city_weather.json()"
   ]
  },
  {
   "cell_type": "code",
   "execution_count": 30,
   "metadata": {},
   "outputs": [
    {
     "name": "stdout",
     "output_type": "stream",
     "text": [
      "City Weather found.\n"
     ]
    }
   ],
   "source": [
    "# Create an endpoint URL for a city.\n",
    "city_url = url + \"&q=\" + \"Boston\"\n",
    "city_weather = requests.get(city_url)\n",
    "if city_weather.status_code == 200:\n",
    "    print(f\"City Weather found.\")\n",
    "else:\n",
    "    print(f\"City weather not found.\")"
   ]
  },
  {
   "cell_type": "code",
   "execution_count": 31,
   "metadata": {},
   "outputs": [
    {
     "name": "stdout",
     "output_type": "stream",
     "text": [
      "City Weather found.\n"
     ]
    }
   ],
   "source": [
    "# Create an endpoint URL for a city.\n",
    "city_url = url + \"&q=\" + \"Bston\"\n",
    "city_weather = requests.get(city_url)\n",
    "if city_weather.json():\n",
    "    print(f\"City Weather found.\")\n",
    "else:\n",
    "    print(f\"City weather not found.\")"
   ]
  },
  {
   "cell_type": "code",
   "execution_count": 92,
   "metadata": {},
   "outputs": [
    {
     "name": "stdout",
     "output_type": "stream",
     "text": [
      "http://api.openweathermap.org/data/2.5/weather?units=Imperial&APPID=d8c1a12d1e27d98f30465fbead7eddfc&q=Bston\n"
     ]
    }
   ],
   "source": [
    "print(city_url)"
   ]
  },
  {
   "cell_type": "code",
   "execution_count": 93,
   "metadata": {},
   "outputs": [
    {
     "data": {
      "text/plain": [
       "{'coord': {'lon': -71.06, 'lat': 42.36},\n",
       " 'weather': [{'id': 804,\n",
       "   'main': 'Clouds',\n",
       "   'description': 'overcast clouds',\n",
       "   'icon': '04d'}],\n",
       " 'base': 'stations',\n",
       " 'main': {'temp': 53.98,\n",
       "  'feels_like': 44.19,\n",
       "  'temp_min': 52,\n",
       "  'temp_max': 55.99,\n",
       "  'pressure': 1014,\n",
       "  'humidity': 62},\n",
       " 'visibility': 10000,\n",
       " 'wind': {'speed': 13.87, 'deg': 340, 'gust': 31.09},\n",
       " 'clouds': {'all': 100},\n",
       " 'dt': 1605208652,\n",
       " 'sys': {'type': 1,\n",
       "  'id': 4967,\n",
       "  'country': 'US',\n",
       "  'sunrise': 1605180720,\n",
       "  'sunset': 1605216305},\n",
       " 'timezone': -18000,\n",
       " 'id': 4930956,\n",
       " 'name': 'Boston',\n",
       " 'cod': 200}"
      ]
     },
     "execution_count": 93,
     "metadata": {},
     "output_type": "execute_result"
    }
   ],
   "source": [
    "# Create an endpoint URL for a city.\n",
    "city_url = url + \"&q=\" + \"Boston\"\n",
    "city_weather = requests.get(city_url)\n",
    "city_weather.json()"
   ]
  },
  {
   "cell_type": "code",
   "execution_count": 94,
   "metadata": {},
   "outputs": [],
   "source": [
    "# Get the JSON data.\n",
    "boston_data = city_weather.json()"
   ]
  },
  {
   "cell_type": "code",
   "execution_count": 95,
   "metadata": {},
   "outputs": [
    {
     "data": {
      "text/plain": [
       "{'type': 1,\n",
       " 'id': 3486,\n",
       " 'country': 'US',\n",
       " 'sunrise': 1605094244,\n",
       " 'sunset': 1605129964}"
      ]
     },
     "execution_count": 95,
     "metadata": {},
     "output_type": "execute_result"
    }
   ],
   "source": [
    "boston_data[\"sys\"]\n",
    "{'type': 1,\n",
    "  'id': 3486,\n",
    "  'country': 'US',\n",
    "  'sunrise': 1605094244,\n",
    "  'sunset': 1605129964}"
   ]
  },
  {
   "cell_type": "code",
   "execution_count": 96,
   "metadata": {},
   "outputs": [
    {
     "data": {
      "text/plain": [
       "'US'"
      ]
     },
     "execution_count": 96,
     "metadata": {},
     "output_type": "execute_result"
    }
   ],
   "source": [
    "boston_data[\"sys\"][\"country\"]"
   ]
  },
  {
   "cell_type": "code",
   "execution_count": 97,
   "metadata": {},
   "outputs": [
    {
     "data": {
      "text/plain": [
       "1605208652"
      ]
     },
     "execution_count": 97,
     "metadata": {},
     "output_type": "execute_result"
    }
   ],
   "source": [
    "boston_data[\"dt\"]"
   ]
  },
  {
   "cell_type": "code",
   "execution_count": 98,
   "metadata": {},
   "outputs": [
    {
     "data": {
      "text/plain": [
       "42.36"
      ]
     },
     "execution_count": 98,
     "metadata": {},
     "output_type": "execute_result"
    }
   ],
   "source": [
    "boston_data[\"coord\"][\"lat\"]"
   ]
  },
  {
   "cell_type": "code",
   "execution_count": 99,
   "metadata": {},
   "outputs": [
    {
     "data": {
      "text/plain": [
       "55.99"
      ]
     },
     "execution_count": 99,
     "metadata": {},
     "output_type": "execute_result"
    }
   ],
   "source": [
    "boston_data[\"main\"][\"temp_max\"]"
   ]
  },
  {
   "cell_type": "code",
   "execution_count": 100,
   "metadata": {},
   "outputs": [
    {
     "name": "stdout",
     "output_type": "stream",
     "text": [
      "42.36 -71.06 55.99 62 100 13.87\n"
     ]
    }
   ],
   "source": [
    "lat = boston_data[\"coord\"][\"lat\"]\n",
    "lng = boston_data[\"coord\"][\"lon\"]\n",
    "max_temp = boston_data[\"main\"][\"temp_max\"]\n",
    "humidity = boston_data[\"main\"][\"humidity\"]\n",
    "clouds = boston_data[\"clouds\"][\"all\"]\n",
    "wind = boston_data[\"wind\"][\"speed\"]\n",
    "print(lat, lng, max_temp, humidity, clouds, wind)"
   ]
  },
  {
   "cell_type": "code",
   "execution_count": 101,
   "metadata": {},
   "outputs": [
    {
     "data": {
      "text/plain": [
       "1605208652"
      ]
     },
     "execution_count": 101,
     "metadata": {},
     "output_type": "execute_result"
    }
   ],
   "source": [
    "boston_data[\"dt\"]"
   ]
  },
  {
   "cell_type": "code",
   "execution_count": 102,
   "metadata": {},
   "outputs": [
    {
     "data": {
      "text/plain": [
       "datetime.datetime(2020, 11, 12, 19, 17, 32)"
      ]
     },
     "execution_count": 102,
     "metadata": {},
     "output_type": "execute_result"
    }
   ],
   "source": [
    "# Import the datetime module from the datetime library.\n",
    "from datetime import datetime\n",
    "# Get the date from the JSON file.\n",
    "date = boston_data[\"dt\"]\n",
    "# Convert the UTC date to a date format with year, month, day, hours, minutes, and seconds.\n",
    "datetime.utcfromtimestamp(date)"
   ]
  },
  {
   "cell_type": "code",
   "execution_count": 103,
   "metadata": {},
   "outputs": [
    {
     "data": {
      "text/plain": [
       "'2020-11-12 19:17:32'"
      ]
     },
     "execution_count": 103,
     "metadata": {},
     "output_type": "execute_result"
    }
   ],
   "source": [
    "datetime.utcfromtimestamp(date).strftime('%Y-%m-%d %H:%M:%S')"
   ]
  },
  {
   "cell_type": "code",
   "execution_count": 109,
   "metadata": {},
   "outputs": [
    {
     "data": {
      "text/plain": [
       "0"
      ]
     },
     "execution_count": 109,
     "metadata": {},
     "output_type": "execute_result"
    }
   ],
   "source": [
    "# Create a list for holding the cities.\n",
    "cities = []\n",
    "# Identify the nearest city for each latitude and longitude combination.\n",
    "for coordinate in coordinates:\n",
    "    city = citipy.nearest_city(lat, lng).city_name\n",
    "\n",
    "    # If the city is unique, then we will add it to the cities list.\n",
    "    if city not in cities:\n",
    "        cities.append(city)\n",
    "# Print the city count to confirm sufficient count.\n",
    "len(cities)"
   ]
  },
  {
   "cell_type": "code",
   "execution_count": 2,
   "metadata": {},
   "outputs": [
    {
     "ename": "NameError",
     "evalue": "name 'coordinates' is not defined",
     "output_type": "error",
     "traceback": [
      "\u001b[1;31m---------------------------------------------------------------------------\u001b[0m",
      "\u001b[1;31mNameError\u001b[0m                                 Traceback (most recent call last)",
      "\u001b[1;32m<ipython-input-2-bc41f4745c87>\u001b[0m in \u001b[0;36m<module>\u001b[1;34m\u001b[0m\n\u001b[0;32m      2\u001b[0m \u001b[0mcities\u001b[0m \u001b[1;33m=\u001b[0m \u001b[1;33m[\u001b[0m\u001b[1;33m]\u001b[0m\u001b[1;33m\u001b[0m\u001b[1;33m\u001b[0m\u001b[0m\n\u001b[0;32m      3\u001b[0m \u001b[1;31m# Identify the nearest city for each latitude and longitude combination.\u001b[0m\u001b[1;33m\u001b[0m\u001b[1;33m\u001b[0m\u001b[1;33m\u001b[0m\u001b[0m\n\u001b[1;32m----> 4\u001b[1;33m \u001b[1;32mfor\u001b[0m \u001b[0mcoordinate\u001b[0m \u001b[1;32min\u001b[0m \u001b[0mcoordinates\u001b[0m\u001b[1;33m:\u001b[0m\u001b[1;33m\u001b[0m\u001b[1;33m\u001b[0m\u001b[0m\n\u001b[0m\u001b[0;32m      5\u001b[0m     \u001b[0mcity\u001b[0m \u001b[1;33m=\u001b[0m \u001b[0mcitipy\u001b[0m\u001b[1;33m.\u001b[0m\u001b[0mnearest_city\u001b[0m\u001b[1;33m(\u001b[0m\u001b[0mcoordinate\u001b[0m\u001b[1;33m[\u001b[0m\u001b[1;36m0\u001b[0m\u001b[1;33m]\u001b[0m\u001b[1;33m,\u001b[0m \u001b[0mcoordinate\u001b[0m\u001b[1;33m[\u001b[0m\u001b[1;36m1\u001b[0m\u001b[1;33m]\u001b[0m\u001b[1;33m)\u001b[0m\u001b[1;33m.\u001b[0m\u001b[0mcity_name\u001b[0m\u001b[1;33m\u001b[0m\u001b[1;33m\u001b[0m\u001b[0m\n\u001b[0;32m      6\u001b[0m \u001b[1;33m\u001b[0m\u001b[0m\n",
      "\u001b[1;31mNameError\u001b[0m: name 'coordinates' is not defined"
     ]
    }
   ],
   "source": [
    "# Create a list for holding the cities.\n",
    "cities = []\n",
    "# Identify the nearest city for each latitude and longitude combination.\n",
    "for coordinate in coordinates:\n",
    "    city = citipy.nearest_city(coordinate[0], coordinate[1]).city_name\n",
    "\n",
    "    # If the city is unique, then we will add it to the cities list.\n",
    "    if city not in cities:\n",
    "        cities.append(city)\n",
    "# Print the city count to confirm sufficient count.\n",
    "len(cities)\n",
    "\n",
    "# Create an empty list to hold the weather data.\n",
    "city_data = []\n",
    "# Print the beginning of the logging.\n",
    "print(\"Beginning Data Retrieval     \")\n",
    "print(\"-----------------------------\")\n",
    "\n",
    "# Create counters.\n",
    "record_count = 1\n",
    "set_count = 1\n",
    "# Loop through all the cities in the list.\n",
    "for i, city in enumerate(cities):\n",
    "\n",
    "    # Group cities in sets of 50 for logging purposes.\n",
    "    if (i % 50 == 0 and i >= 50):\n",
    "        set_count += 1\n",
    "        record_count = 1\n",
    "    # Create endpoint URL with each city.\n",
    "    city_url = url + \"&q=\" + city.replace(\" \",\"+\")\n",
    "\n",
    "    # Log the URL, record, and set numbers and the city.\n",
    "    print(f\"Processing Record {record_count} of Set {set_count} | {city}\")\n",
    "    # Add 1 to the record count.\n",
    "    record_count += 1\n",
    "\n",
    "# Loop through all the cities in our list.\n",
    "for i in range(len(cities)):\n",
    "\n",
    "    # Group cities in sets of 50 for logging purposes.\n",
    "    if (i % 50 == 0 and i >= 50):\n",
    "        set_count += 1\n",
    "        record_count = 1\n",
    "    # Create endpoint URL with each city.\n",
    "    city_url = url + \"&q=\" + cities[i]\n",
    "    # Run an API request for each of the cities.\n",
    "    try:\n",
    "        # Parse the JSON and retrieve data.\n",
    "        city_weather = requests.get(city_url).json()\n",
    "        # Parse out the needed data.\n",
    "        city_lat = city_weather[\"coord\"][\"lat\"]\n",
    "        city_lng = city_weather[\"coord\"][\"lon\"]\n",
    "        city_max_temp = city_weather[\"main\"][\"temp_max\"]\n",
    "        city_humidity = city_weather[\"main\"][\"humidity\"]\n",
    "        city_clouds = city_weather[\"clouds\"][\"all\"]\n",
    "        city_wind = city_weather[\"wind\"][\"speed\"]\n",
    "        city_country = city_weather[\"sys\"][\"country\"]\n",
    "        # Convert the date to ISO standard.\n",
    "        city_date = datetime.utcfromtimestamp(city_weather[\"dt\"]).strftime('%Y-%m-%d %H:%M:%S')\n",
    "        # Append the city information into city_data list.\n",
    "        city_data.append({\"City\": city.title(),\n",
    "                          \"Lat\": city_lat,\n",
    "                          \"Lng\": city_lng,\n",
    "                          \"Max Temp\": city_max_temp,\n",
    "                          \"Humidity\": city_humidity,\n",
    "                          \"Cloudiness\": city_clouds,\n",
    "                          \"Wind Speed\": city_wind,\n",
    "                          \"Country\": city_country,\n",
    "                          \"Date\": city_date})\n",
    "\n",
    "# If an error is experienced, skip the city.\n",
    "    except:\n",
    "        print(\"City not found. Skipping...\")\n",
    "        pass\n",
    "\n",
    "# Indicate that Data Loading is complete.\n",
    "print(\"-----------------------------\")\n",
    "print(\"Data Retrieval Complete      \")\n",
    "print(\"-----------------------------\")"
   ]
  },
  {
   "cell_type": "code",
   "execution_count": 78,
   "metadata": {},
   "outputs": [
    {
     "data": {
      "text/html": [
       "<div>\n",
       "<style scoped>\n",
       "    .dataframe tbody tr th:only-of-type {\n",
       "        vertical-align: middle;\n",
       "    }\n",
       "\n",
       "    .dataframe tbody tr th {\n",
       "        vertical-align: top;\n",
       "    }\n",
       "\n",
       "    .dataframe thead th {\n",
       "        text-align: right;\n",
       "    }\n",
       "</style>\n",
       "<table border=\"1\" class=\"dataframe\">\n",
       "  <thead>\n",
       "    <tr style=\"text-align: right;\">\n",
       "      <th></th>\n",
       "    </tr>\n",
       "  </thead>\n",
       "  <tbody>\n",
       "  </tbody>\n",
       "</table>\n",
       "</div>"
      ],
      "text/plain": [
       "Empty DataFrame\n",
       "Columns: []\n",
       "Index: []"
      ]
     },
     "execution_count": 78,
     "metadata": {},
     "output_type": "execute_result"
    }
   ],
   "source": [
    "# Convert the array of dictionaries to a Pandas DataFrame.\n",
    "city_data_df = pd.DataFrame(city_data)\n",
    "city_data_df.head(10)"
   ]
  },
  {
   "cell_type": "code",
   "execution_count": null,
   "metadata": {},
   "outputs": [],
   "source": []
  }
 ],
 "metadata": {
  "kernelspec": {
   "display_name": "PythonData",
   "language": "python",
   "name": "pythondata"
  },
  "language_info": {
   "codemirror_mode": {
    "name": "ipython",
    "version": 3
   },
   "file_extension": ".py",
   "mimetype": "text/x-python",
   "name": "python",
   "nbconvert_exporter": "python",
   "pygments_lexer": "ipython3",
   "version": "3.7.7"
  }
 },
 "nbformat": 4,
 "nbformat_minor": 4
}
